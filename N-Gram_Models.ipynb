{
  "cells": [
    {
      "cell_type": "markdown",
      "metadata": {
        "id": "Omr6bWlhnJYv"
      },
      "source": [
        "### **PA1: N-Gram Models**"
      ]
    },
    {
      "cell_type": "markdown",
      "metadata": {
        "id": "5PAYbe3rnW2g"
      },
      "source": [
        "**1) Data collection and preprocessing**\n",
        "\n",
        "\n"
      ]
    },
    {
      "cell_type": "markdown",
      "metadata": {
        "id": "g8RexdTJoUVx"
      },
      "source": [
        "**a)** Using 'Gutenberg' dataset from the nltk(Natural Language ToolKit) package. The Gutenberg dataset consists of famous literature works."
      ]
    },
    {
      "cell_type": "markdown",
      "metadata": {
        "id": "Yh8dWNFboM4d"
      },
      "source": [
        "Importing and Downloading all the necessary packages and libraries"
      ]
    },
    {
      "cell_type": "code",
      "execution_count": 244,
      "metadata": {
        "id": "rX4vkGuCQ4nM"
      },
      "outputs": [],
      "source": [
        "import nltk\n",
        "from nltk.corpus import gutenberg\n",
        "from nltk.tokenize import word_tokenize, sent_tokenize\n",
        "from nltk.corpus import stopwords\n",
        "from nltk.probability import ConditionalFreqDist, ConditionalProbDist, MLEProbDist\n",
        "from nltk.util import ngrams\n",
        "from collections import Counter\n",
        "import re\n",
        "import random\n",
        "import string\n",
        "import math\n",
        "import matplotlib.pyplot as plt\n"
      ]
    },
    {
      "cell_type": "code",
      "execution_count": 245,
      "metadata": {
        "colab": {
          "base_uri": "https://localhost:8080/"
        },
        "id": "uGC97vZltoet",
        "outputId": "cb43a420-6c7d-4b7c-bc21-ba1cb5c165b4"
      },
      "outputs": [
        {
          "output_type": "stream",
          "name": "stderr",
          "text": [
            "[nltk_data] Downloading package gutenberg to /root/nltk_data...\n",
            "[nltk_data]   Package gutenberg is already up-to-date!\n",
            "[nltk_data] Downloading package punkt to /root/nltk_data...\n",
            "[nltk_data]   Package punkt is already up-to-date!\n",
            "[nltk_data] Downloading package stopwords to /root/nltk_data...\n",
            "[nltk_data]   Package stopwords is already up-to-date!\n"
          ]
        },
        {
          "output_type": "execute_result",
          "data": {
            "text/plain": [
              "True"
            ]
          },
          "metadata": {},
          "execution_count": 245
        }
      ],
      "source": [
        "nltk.download('gutenberg')\n",
        "nltk.download('punkt')\n",
        "nltk.download('stopwords')"
      ]
    },
    {
      "cell_type": "markdown",
      "metadata": {
        "id": "gfwsQ6g6pKDK"
      },
      "source": [
        "**c)** Tokenization of text into words"
      ]
    },
    {
      "cell_type": "code",
      "execution_count": 246,
      "metadata": {
        "colab": {
          "base_uri": "https://localhost:8080/"
        },
        "id": "4RJdIkzru7Xe",
        "outputId": "8ed06458-6bc1-431f-ef8b-88b5059a070b"
      },
      "outputs": [
        {
          "output_type": "stream",
          "name": "stdout",
          "text": [
            "[Emma by Jane Austen 1816]\n",
            "\n",
            "VOLUME I\n",
            "\n",
            "CHAPTER I\n",
            "\n",
            "\n",
            "Emma Woodhouse, handsome, clever, and rich, with a comfortable home\n",
            "and happy disposition, seemed to unite some of the best blessings\n",
            "of existence; and had lived nearly twenty-one years in the world\n",
            "with very little to distress or vex her.\n",
            "\n",
            "She was the youngest of the two daughters of a most affectionate,\n",
            "indulgent father; and had, in consequence of her sister's marriage,\n",
            "been mistress of his house from a very early period.  Her mother\n",
            "had died too long ago for her to have more than an indistinct\n",
            "remembrance of her caresses; and her place had been supplied\n",
            "by an excellent woman as governess, who had fallen little short\n",
            "of a mother in affection.\n",
            "\n",
            "Sixteen years had Miss Taylor been in Mr. Woodhouse's family,\n",
            "less as a governess than a friend, very fond of both daughters,\n",
            "but particularly of Emma.  Between _them_ it was more the intimacy\n",
            "of sisters.  Even before Miss Taylor had ceased to hold the nominal\n",
            "office of governess, the mildness o\n"
          ]
        }
      ],
      "source": [
        "data = gutenberg.raw()\n",
        "print(data[:1000])"
      ]
    },
    {
      "cell_type": "code",
      "execution_count": 247,
      "metadata": {
        "colab": {
          "base_uri": "https://localhost:8080/"
        },
        "id": "v1Y_OhAgvQY0",
        "outputId": "9986115b-282c-4655-c258-f4cee690f06a"
      },
      "outputs": [
        {
          "output_type": "stream",
          "name": "stdout",
          "text": [
            "['[', 'Emma', 'by', 'Jane', 'Austen', '1816', ']', 'VOLUME', 'I', 'CHAPTER']\n"
          ]
        }
      ],
      "source": [
        "words = word_tokenize(data)\n",
        "print(words[:10])"
      ]
    },
    {
      "cell_type": "code",
      "source": [
        "len(words)"
      ],
      "metadata": {
        "id": "bAyrs8QsI1W4",
        "outputId": "be79d405-0d09-4619-a29b-cdbf072369f2",
        "colab": {
          "base_uri": "https://localhost:8080/"
        }
      },
      "execution_count": 248,
      "outputs": [
        {
          "output_type": "execute_result",
          "data": {
            "text/plain": [
              "2538838"
            ]
          },
          "metadata": {},
          "execution_count": 248
        }
      ]
    },
    {
      "cell_type": "code",
      "execution_count": 249,
      "metadata": {
        "colab": {
          "base_uri": "https://localhost:8080/"
        },
        "id": "WQ_NeBffvt4_",
        "outputId": "e10a8d0a-2a8b-45f4-ac1e-3f9f0129b8e7"
      },
      "outputs": [
        {
          "output_type": "stream",
          "name": "stdout",
          "text": [
            "[['[', 'Emma', 'by', 'Jane', 'Austen', '1816', ']'], ['VOLUME', 'I'], ['CHAPTER', 'I'], ['Emma', 'Woodhouse', ',', 'handsome', ',', 'clever', ',', 'and', 'rich', ',', 'with', 'a', 'comfortable', 'home', 'and', 'happy', 'disposition', ',', 'seemed', 'to', 'unite', 'some', 'of', 'the', 'best', 'blessings', 'of', 'existence', ';', 'and', 'had', 'lived', 'nearly', 'twenty', '-', 'one', 'years', 'in', 'the', 'world', 'with', 'very', 'little', 'to', 'distress', 'or', 'vex', 'her', '.'], ['She', 'was', 'the', 'youngest', 'of', 'the', 'two', 'daughters', 'of', 'a', 'most', 'affectionate', ',', 'indulgent', 'father', ';', 'and', 'had', ',', 'in', 'consequence', 'of', 'her', 'sister', \"'\", 's', 'marriage', ',', 'been', 'mistress', 'of', 'his', 'house', 'from', 'a', 'very', 'early', 'period', '.'], ['Her', 'mother', 'had', 'died', 'too', 'long', 'ago', 'for', 'her', 'to', 'have', 'more', 'than', 'an', 'indistinct', 'remembrance', 'of', 'her', 'caresses', ';', 'and', 'her', 'place', 'had', 'been', 'supplied', 'by', 'an', 'excellent', 'woman', 'as', 'governess', ',', 'who', 'had', 'fallen', 'little', 'short', 'of', 'a', 'mother', 'in', 'affection', '.'], ['Sixteen', 'years', 'had', 'Miss', 'Taylor', 'been', 'in', 'Mr', '.', 'Woodhouse', \"'\", 's', 'family', ',', 'less', 'as', 'a', 'governess', 'than', 'a', 'friend', ',', 'very', 'fond', 'of', 'both', 'daughters', ',', 'but', 'particularly', 'of', 'Emma', '.'], ['Between', '_them_', 'it', 'was', 'more', 'the', 'intimacy', 'of', 'sisters', '.'], ['Even', 'before', 'Miss', 'Taylor', 'had', 'ceased', 'to', 'hold', 'the', 'nominal', 'office', 'of', 'governess', ',', 'the', 'mildness', 'of', 'her', 'temper', 'had', 'hardly', 'allowed', 'her', 'to', 'impose', 'any', 'restraint', ';', 'and', 'the', 'shadow', 'of', 'authority', 'being', 'now', 'long', 'passed', 'away', ',', 'they', 'had', 'been', 'living', 'together', 'as', 'friend', 'and', 'friend', 'very', 'mutually', 'attached', ',', 'and', 'Emma', 'doing', 'just', 'what', 'she', 'liked', ';', 'highly', 'esteeming', 'Miss', 'Taylor', \"'\", 's', 'judgment', ',', 'but', 'directed', 'chiefly', 'by', 'her', 'own', '.'], ['The', 'real', 'evils', ',', 'indeed', ',', 'of', 'Emma', \"'\", 's', 'situation', 'were', 'the', 'power', 'of', 'having', 'rather', 'too', 'much', 'her', 'own', 'way', ',', 'and', 'a', 'disposition', 'to', 'think', 'a', 'little', 'too', 'well', 'of', 'herself', ';', 'these', 'were', 'the', 'disadvantages', 'which', 'threatened', 'alloy', 'to', 'her', 'many', 'enjoyments', '.']]\n"
          ]
        }
      ],
      "source": [
        "sentences = gutenberg.sents()\n",
        "print(sentences[:10])"
      ]
    },
    {
      "cell_type": "markdown",
      "metadata": {
        "id": "c15fzBSG-Wba"
      },
      "source": [
        "**b)** Cleaning and preprocessing the data"
      ]
    },
    {
      "cell_type": "markdown",
      "metadata": {
        "id": "sQN66D3KbjOl"
      },
      "source": [
        "Removing special characters, urls, punctuations, non-alphabetic words and converting them into lowercase"
      ]
    },
    {
      "cell_type": "code",
      "execution_count": 250,
      "metadata": {
        "colab": {
          "base_uri": "https://localhost:8080/"
        },
        "id": "Gd5l2AeLwNSY",
        "outputId": "7842d559-4a99-4380-d6ee-64160324ad04"
      },
      "outputs": [
        {
          "output_type": "stream",
          "name": "stdout",
          "text": [
            "['emma', 'by', 'jane', 'austen', 'volume', 'i', 'chapter', 'i', 'emma', 'woodhouse']\n"
          ]
        }
      ],
      "source": [
        "urls = re.compile(r'http[s]?://\\S+|www\\.\\S+')\n",
        "words = [word.lower() for word in words if word.isalpha() and not urls.match(word)]\n",
        "print(words[:10])"
      ]
    },
    {
      "cell_type": "markdown",
      "metadata": {
        "id": "iHvZ9Stnfd5D"
      },
      "source": [
        "Removing stopwords"
      ]
    },
    {
      "cell_type": "code",
      "execution_count": 251,
      "metadata": {
        "colab": {
          "base_uri": "https://localhost:8080/"
        },
        "id": "_bVKGKvIw7zM",
        "outputId": "1c540f96-fe2b-403e-fa2f-c2478172ceb5"
      },
      "outputs": [
        {
          "output_type": "stream",
          "name": "stdout",
          "text": [
            "['emma', 'jane', 'austen', 'volume', 'chapter', 'emma', 'woodhouse', 'handsome', 'clever', 'rich']\n"
          ]
        }
      ],
      "source": [
        "stop_words=set(stopwords.words('english'))\n",
        "meaningful_words=[word for word in words if word not in stop_words]\n",
        "print(meaningful_words[:10])"
      ]
    },
    {
      "cell_type": "markdown",
      "metadata": {
        "id": "j8UqnwEwgKF7"
      },
      "source": [
        "**2) Model Implementation**"
      ]
    },
    {
      "cell_type": "code",
      "source": [
        "split_index = int(0.9 * len(words))\n",
        "train_words = words[:split_index]\n",
        "test_words =words[split_index:]\n",
        "print(words[:20])\n",
        "print(test_words[:20])"
      ],
      "metadata": {
        "colab": {
          "base_uri": "https://localhost:8080/"
        },
        "id": "x_mpwsTghgJO",
        "outputId": "9d0cd962-eb94-4b70-fb42-f370b758e7da"
      },
      "execution_count": 252,
      "outputs": [
        {
          "output_type": "stream",
          "name": "stdout",
          "text": [
            "['emma', 'by', 'jane', 'austen', 'volume', 'i', 'chapter', 'i', 'emma', 'woodhouse', 'handsome', 'clever', 'and', 'rich', 'with', 'a', 'comfortable', 'home', 'and', 'happy']\n",
            "['by', 'eve', 'amazed', 'astonied', 'stood', 'and', 'blank', 'while', 'horrour', 'chill', 'ran', 'through', 'his', 'veins', 'and', 'all', 'his', 'joints', 'relaxed', 'from']\n"
          ]
        }
      ]
    },
    {
      "cell_type": "code",
      "execution_count": 253,
      "metadata": {
        "id": "F10BQgupCRnW"
      },
      "outputs": [],
      "source": [
        "def ngrams_generation(words, n):\n",
        "  n_grams=ngrams(words, n)\n",
        "  return list(n_grams)"
      ]
    },
    {
      "cell_type": "markdown",
      "metadata": {
        "id": "mCyZ2I3thnCb"
      },
      "source": [
        "**a)** Calculating frequencies of tokenized text in the entire gutenberg dataset(Using Counter function from collections package)"
      ]
    },
    {
      "cell_type": "code",
      "execution_count": 254,
      "metadata": {
        "colab": {
          "base_uri": "https://localhost:8080/"
        },
        "id": "uuIn8Y7i0KoK",
        "outputId": "f9751fff-b3ee-444b-84bf-b7fac72afe36"
      },
      "outputs": [
        {
          "output_type": "stream",
          "name": "stdout",
          "text": [
            "Enter the value of n for calculating most occurring n-grams model:3\n",
            "Highest 5 occurring 3-grams are [(('thus', 'saith', 'lord'), 416), (('lord', 'thy', 'god'), 306), (('saith', 'lord', 'god'), 277), (('lord', 'said', 'unto'), 182), (('shall', 'come', 'pass'), 131)]\n"
          ]
        }
      ],
      "source": [
        "n = int(input(\"Enter the value of n for calculating most occurring n-grams model:\"))\n",
        "frequency=Counter(ngrams_generation(meaningful_words, n))\n",
        "print(f\"Highest 5 occurring {n}-grams are\", frequency.most_common(5))\n"
      ]
    },
    {
      "cell_type": "markdown",
      "metadata": {
        "id": "RkkqZlHfyX0H"
      },
      "source": [
        "**b)** Function that calculates probability of a word given n-1 words(n-1 grams)."
      ]
    },
    {
      "cell_type": "code",
      "source": [
        "def probability_distribution_with_smoothing(train_words, n, alpha=1):\n",
        "    n_grams = list(ngrams_generation(train_words, n))\n",
        "    vocabulary_size = len(set(train_words))\n",
        "    cfd = ConditionalFreqDist((tuple(ng[:-1]), ng[-1]) for ng in n_grams)\n",
        "    cpd = laplace_smoothing(cfd, vocabulary_size, alpha)\n",
        "    return cpd, vocabulary_size\n",
        "\n",
        "def nth_probability_with_smoothing(cpd, context, word, vocabulary_size, alpha=1):\n",
        "    context_tuple = tuple(context)\n",
        "    if context_tuple in cpd:\n",
        "        return cpd[context_tuple].get(word, alpha /(vocabulary_size + alpha))\n",
        "    else:\n",
        "        return alpha / (vocabulary_size + alpha)\n",
        "\n",
        "def word_combinations(cpd, context):\n",
        "    context_tuple = tuple(context)\n",
        "    if context_tuple in cpd:\n",
        "        prob_dist = cpd[context_tuple]\n",
        "        return [(word, prob) for word, prob in prob_dist.items()]\n",
        "    else:\n",
        "        return []"
      ],
      "metadata": {
        "id": "YPAqeHRbxwve"
      },
      "execution_count": 255,
      "outputs": []
    },
    {
      "cell_type": "markdown",
      "metadata": {
        "id": "ih5chzWLWbXV"
      },
      "source": [
        "**c)** Function for prediction of next word given a sequence of previous n-1 words using their probabilities."
      ]
    },
    {
      "cell_type": "code",
      "source": [
        "def next_word_prediction(cpd, context):\n",
        "    context_tuple = tuple(context)\n",
        "    if context_tuple in cpd:\n",
        "        new_word=max(cpd[context_tuple], key=cpd[context_tuple].get)\n",
        "        return new_word\n",
        "    else:\n",
        "        return None"
      ],
      "metadata": {
        "id": "nGqZxadDCC9D"
      },
      "execution_count": 256,
      "outputs": []
    },
    {
      "cell_type": "markdown",
      "metadata": {
        "id": "IFE8_RbLYqLS"
      },
      "source": [
        "**d)**  Generating a sequence of length 'l' given no-1 previous words."
      ]
    },
    {
      "cell_type": "code",
      "source": [
        "def sequence_generation(cpd, context, l, vocabulary_size, alpha=1):\n",
        "    current_sequence = list(context)\n",
        "    generated_sequence = list(current_sequence)\n",
        "\n",
        "    for _ in range(l - len(context)):\n",
        "        new_word = next_word_prediction(cpd, current_sequence)\n",
        "        if not new_word:\n",
        "            break\n",
        "        generated_sequence.append(new_word)\n",
        "        current_sequence = current_sequence[1:] + [new_word]\n",
        "\n",
        "    return ' '.join(generated_sequence)\n"
      ],
      "metadata": {
        "id": "GIj_ArwgzIUf"
      },
      "execution_count": 257,
      "outputs": []
    },
    {
      "cell_type": "markdown",
      "metadata": {
        "id": "g-xN813jLX0v"
      },
      "source": [
        "**e)** Laplace smoothing technique for unseen n-grams"
      ]
    },
    {
      "cell_type": "code",
      "source": [
        "def laplace_smoothing(cfdist, vocabulary_size, alpha=1):\n",
        "    smoothed_probability = {}\n",
        "    for context in cfdist.conditions():\n",
        "        total_count = sum(cfdist[context].values())\n",
        "        smoothed_probability[context] = {\n",
        "            word: (count + alpha) / (total_count + alpha * vocabulary_size)\n",
        "            for word, count in cfdist[context].items()\n",
        "        }\n",
        "    return smoothed_probability"
      ],
      "metadata": {
        "id": "bTwV_Ud9A5EZ"
      },
      "execution_count": 258,
      "outputs": []
    },
    {
      "cell_type": "markdown",
      "source": [
        "**3) Testing and evaluation**"
      ],
      "metadata": {
        "id": "Pa_FD8GLbtit"
      }
    },
    {
      "cell_type": "markdown",
      "source": [
        "**a) Testing by giving various (n-1)grams to generate next tokens**\n"
      ],
      "metadata": {
        "id": "3qVMno9tb3B7"
      }
    },
    {
      "cell_type": "code",
      "source": [
        "n = int(input(\"Enter a value of 'n' for n-gram model: \"))\n",
        "cpd_train, vocabulary_size = probability_distribution_with_smoothing(train_words, n)"
      ],
      "metadata": {
        "colab": {
          "base_uri": "https://localhost:8080/"
        },
        "id": "7xPO2gw_CtaU",
        "outputId": "d678fb92-475a-497e-99d3-c3706a6898f0"
      },
      "execution_count": 259,
      "outputs": [
        {
          "name": "stdout",
          "output_type": "stream",
          "text": [
            "Enter a value of 'n' for n-gram model: 3\n"
          ]
        }
      ]
    },
    {
      "cell_type": "markdown",
      "source": [
        "1. probability of word n appearing after given n-1 context"
      ],
      "metadata": {
        "id": "XZrmZWBojeIl"
      }
    },
    {
      "cell_type": "code",
      "source": [
        "context = input(f\"Enter the previous words(lower case) in the sentence (space-separated) of length {n-1}: \").split()\n",
        "word = input(\"Enter the word to find the probability for: \")\n",
        "\n",
        "probability = nth_probability_with_smoothing(cpd_train, context, word, vocabulary_size)\n",
        "print(f\"The probability of '{word}' appearing after '{' '.join(context)}' is: {probability}\")\n",
        "\n",
        "combinations = word_combinations(cpd_train, context)\n",
        "total_prob = sum(prob for word, prob in combinations)\n",
        "print(f\"The total probability for previous n-1 words '{' '.join(context)}' is: {total_prob}\")\n"
      ],
      "metadata": {
        "colab": {
          "base_uri": "https://localhost:8080/"
        },
        "id": "QxPwAIGOC_0-",
        "outputId": "27a520f4-ef73-4348-ee26-23ca2d3fb2c2"
      },
      "execution_count": 260,
      "outputs": [
        {
          "output_type": "stream",
          "name": "stdout",
          "text": [
            "Enter the previous words(lower case) in the sentence (space-separated) of length 2: it was\n",
            "Enter the word to find the probability for: a\n",
            "The probability of 'a' appearing after 'it was' is: 0.00753270062273951\n",
            "The total probability for previous n-1 words 'it was' is: 0.09101786636934829\n"
          ]
        }
      ]
    },
    {
      "cell_type": "markdown",
      "source": [
        "2. Predicting the next word n given previous n-1 words"
      ],
      "metadata": {
        "id": "20P8pL0Xiu00"
      }
    },
    {
      "cell_type": "code",
      "source": [
        "context = input(f\"Enter the previous words(lower case) in the sentence (space-separated) of length {n-1}: \").split()\n",
        "\n",
        "predicted_word = next_word_prediction(cpd_train, context)\n",
        "if predicted_word:\n",
        "    print(f\"The predicted word for given context '{' '.join(context)}' is: {predicted_word}\")\n",
        "else:\n",
        "    print(\"No predictions are found\")"
      ],
      "metadata": {
        "colab": {
          "base_uri": "https://localhost:8080/"
        },
        "id": "Y4NK0DeQDR5g",
        "outputId": "e88d1467-f776-44aa-b876-e8b31242f1bb"
      },
      "execution_count": 261,
      "outputs": [
        {
          "output_type": "stream",
          "name": "stdout",
          "text": [
            "Enter the previous words(lower case) in the sentence (space-separated) of length 2: youngest of\n",
            "The predicted word for given context 'youngest of' is: the\n"
          ]
        }
      ]
    },
    {
      "cell_type": "markdown",
      "source": [
        "3. generating a sequence of l-length using the previous n-1 words"
      ],
      "metadata": {
        "id": "Lmzdh__VelWh"
      }
    },
    {
      "cell_type": "code",
      "source": [
        "context = input(f\"Enter the previous words(lower case) in the sentence (space-separated) of length {n-1}: \").split()\n",
        "l = int(input(\"Enter 'l' to generate a sentence of size l:\"))\n",
        "\n",
        "generated_sequence = sequence_generation(cpd_train, context, l, vocabulary_size)\n",
        "print(f\"The generated sequence of size {l} is: {generated_sequence}\")"
      ],
      "metadata": {
        "colab": {
          "base_uri": "https://localhost:8080/"
        },
        "id": "U-ZsWznUDq8s",
        "outputId": "af3aedca-17f3-46be-f004-c1ca738c5720"
      },
      "execution_count": 262,
      "outputs": [
        {
          "output_type": "stream",
          "name": "stdout",
          "text": [
            "Enter the previous words(lower case) in the sentence (space-separated) of length 2: shall lord\n",
            "Enter 'l' to generate a sentence of size l:10\n",
            "The generated sequence of size 10 is: shall lord it is a very good sort of thing\n"
          ]
        }
      ]
    },
    {
      "cell_type": "markdown",
      "source": [
        "**b)** preplexity of the model on a text set that was not used during the training"
      ],
      "metadata": {
        "id": "jzWipfSRgYo3"
      }
    },
    {
      "cell_type": "code",
      "source": [
        "def calculate_perplexity(test_words, cpd, n, vocabulary_size, alpha=1):\n",
        "    test_ngrams = ngrams_generation(test_words, n)\n",
        "    N = len(test_ngrams)\n",
        "    log_sum = 0.0\n",
        "    for ngram in test_ngrams:\n",
        "        context = ngram[:-1]\n",
        "        word = ngram[-1]\n",
        "        prob = nth_probability_with_smoothing(cpd, context, word, vocabulary_size, alpha)\n",
        "        log_sum += -math.log(prob)\n",
        "    perplexity = math.exp(log_sum / N)\n",
        "    return perplexity\n",
        "\n",
        "\n",
        "perplexity = calculate_perplexity(test_words, cpd_train, n, vocabulary_size)\n",
        "print(f\"The perplexity of the model on the test set is: {perplexity}\")"
      ],
      "metadata": {
        "colab": {
          "base_uri": "https://localhost:8080/"
        },
        "id": "nuj10s-dEwJ1",
        "outputId": "fb6e2dfc-b391-4938-c377-1b6f001ed16d"
      },
      "execution_count": 263,
      "outputs": [
        {
          "output_type": "stream",
          "name": "stdout",
          "text": [
            "The perplexity of the model on the test set is: 24666.218121258076\n"
          ]
        }
      ]
    },
    {
      "cell_type": "markdown",
      "source": [
        "c) Comparison of perplexities of models with different values of n"
      ],
      "metadata": {
        "id": "38YVFFxxGi6d"
      }
    },
    {
      "cell_type": "code",
      "source": [
        "n_values = range(1, 50)\n",
        "perplexities = []\n",
        "\n",
        "for n in n_values:\n",
        "    cpd_train, vocabulary_size = probability_distribution_with_smoothing(train_words, n)\n",
        "    perplexity = calculate_perplexity(test_words, cpd_train, n, vocabulary_size)\n",
        "    perplexities.append(perplexity)\n",
        "    print(f\"Perplexity for n={n}: {perplexity}\")\n",
        "\n",
        "# Plotting the perplexities\n",
        "plt.figure(figsize=(10, 6))\n",
        "plt.plot(n_values, perplexities, marker='o', linestyle='-', color='b')\n",
        "plt.title('Perplexity vs. N-gram Order')\n",
        "plt.xlabel('N-gram Order (n)')\n",
        "plt.ylabel('Perplexity')\n",
        "plt.grid(True)\n",
        "plt.show()"
      ],
      "metadata": {
        "colab": {
          "base_uri": "https://localhost:8080/",
          "height": 1000
        },
        "id": "MFagv3cOGEWx",
        "outputId": "d78b07be-88c1-44fa-cd5f-b094a75b1f1f"
      },
      "execution_count": 264,
      "outputs": [
        {
          "output_type": "stream",
          "name": "stdout",
          "text": [
            "Perplexity for n=1: 1490.2933640559224\n",
            "Perplexity for n=2: 5779.263924142266\n",
            "Perplexity for n=3: 24666.218121258076\n",
            "Perplexity for n=4: 32936.7330177554\n",
            "Perplexity for n=5: 33927.47157581156\n",
            "Perplexity for n=6: 34017.32091508155\n",
            "Perplexity for n=7: 34028.15396075717\n",
            "Perplexity for n=8: 34029.3935372045\n",
            "Perplexity for n=9: 34030.069705713155\n",
            "Perplexity for n=10: 34030.52049182401\n",
            "Perplexity for n=11: 34030.971288214045\n",
            "Perplexity for n=12: 34031.19668595581\n",
            "Perplexity for n=13: 34031.42208734448\n",
            "Perplexity for n=14: 34031.534785906086\n",
            "Perplexity for n=15: 34031.647485917805\n",
            "Perplexity for n=16: 34031.760187379776\n",
            "Perplexity for n=17: 34031.87289029193\n",
            "Perplexity for n=18: 34031.98559465436\n",
            "Perplexity for n=19: 34032.09830046707\n",
            "Perplexity for n=20: 34032.211007729944\n",
            "Perplexity for n=21: 34032.32371644325\n",
            "Perplexity for n=22: 34032.436426606866\n",
            "Perplexity for n=23: 34032.54913822094\n",
            "Perplexity for n=24: 34032.66185128534\n",
            "Perplexity for n=25: 34032.77456580022\n",
            "Perplexity for n=26: 34032.88728176552\n",
            "Perplexity for n=27: 34032.99999918132\n",
            "Perplexity for n=28: 34032.99999918132\n",
            "Perplexity for n=29: 34032.99999918132\n",
            "Perplexity for n=30: 34032.99999918132\n",
            "Perplexity for n=31: 34032.99999918132\n",
            "Perplexity for n=32: 34032.99999918132\n",
            "Perplexity for n=33: 34032.99999918132\n",
            "Perplexity for n=34: 34032.99999918132\n",
            "Perplexity for n=35: 34032.99999918132\n",
            "Perplexity for n=36: 34032.99999918132\n",
            "Perplexity for n=37: 34032.99999918132\n",
            "Perplexity for n=38: 34032.99999918132\n",
            "Perplexity for n=39: 34032.999999181375\n",
            "Perplexity for n=40: 34032.999999181375\n",
            "Perplexity for n=41: 34032.999999181375\n",
            "Perplexity for n=42: 34032.999999181375\n",
            "Perplexity for n=43: 34032.999999181375\n",
            "Perplexity for n=44: 34032.999999181375\n",
            "Perplexity for n=45: 34032.999999181375\n",
            "Perplexity for n=46: 34032.999999181375\n",
            "Perplexity for n=47: 34032.999999181375\n",
            "Perplexity for n=48: 34032.999999181375\n",
            "Perplexity for n=49: 34032.999999181375\n"
          ]
        },
        {
          "output_type": "display_data",
          "data": {
            "text/plain": [
              "<Figure size 1000x600 with 1 Axes>"
            ],
            "image/png": "[encoded data removed]"
          },
          "metadata": {}
        }
      ]
    }
  ],
  "metadata": {
    "colab": {
      "provenance": []
    },
    "kernelspec": {
      "display_name": "Python 3",
      "name": "python3"
    },
    "language_info": {
      "name": "python"
    }
  },
  "nbformat": 4,
  "nbformat_minor": 0
}